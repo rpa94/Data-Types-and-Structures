{
  "nbformat": 4,
  "nbformat_minor": 0,
  "metadata": {
    "colab": {
      "provenance": []
    },
    "kernelspec": {
      "name": "python3",
      "display_name": "Python 3"
    },
    "language_info": {
      "name": "python"
    }
  },
  "cells": [
    {
      "cell_type": "code",
      "execution_count": null,
      "metadata": {
        "id": "pwm9wtd7CBu5"
      },
      "outputs": [],
      "source": [
        "Data Types And Structures Questions\n"
      ]
    },
    {
      "cell_type": "markdown",
      "source": [
        "Que.1  What are data structures, and why are they important.\n",
        "\n",
        "Ans. Data structures are a way of storing and organizing data efficiently. This will allow you to access and perform operations on the data easily.\n",
        "\n",
        "Python has a host of in-built data structures that help us to organize our data easily. Therefore, it becomes imperative to get acquainted with these first so that when dealing with data, we know exactly which data structure will solve our purpose effectively.\n",
        "\n",
        "\n",
        "\n",
        "\n",
        "Que.2 Explain the difference between mutable and immutable data types with examples.\n",
        "\n",
        "Ans.In Python, Every variable in Python holds an instance of an object. There are two types of objects in Python i.e. Mutable and Immutable objects.\n",
        "\n",
        "Immutable Objects in Python:\n",
        "\n",
        "Immutable Objects are of in-built datatypes like int, float, bool, string, Unicode, and tuple. In simple words, an immutable object can’t be changed after it is created.\n",
        "\n",
        " we will take a tuple and try to modify its value at a particular index and print it. As a tuple is an immutable object, it will throw an error when we try to modify it.\n",
        "\n",
        "\n",
        " Mutable Objects in Python:\n",
        "\n",
        "Mutable Objects are of type Python list, Python dict, or Python set. Custom classes are generally mutable.\n",
        "\n",
        "In this example, we will take a Python List object and try to modify its value using the index. A list in Python is mutable, that is, it allows us to change its value once it is created. Lists have the ability to add and remove elements dynamically. Lists provide methods such as append(),insert(),extend(),remove() and pop().\n",
        "\n",
        "\n",
        "Que.3 What are the main differences between lists and tuples in Python.\n",
        "Ans.Difference Between List and Tuple in Python\n",
        "\n",
        "Lists and Tuples in Python are two different implementations of data structure.:\n",
        "* List is Mutable and Tuple is not (Cannot update an element, insert and delete elements)\n",
        "*Tuples are faster because of read only nature. Memory can be efficiently allocated and used for tuples.\n",
        "\n",
        "\n",
        "\n",
        "\n",
        "Que.4 Describe how dictionaries store data.\n",
        "\n",
        "Ans  Dictionaries are used to store data values in key:value pairs.\n",
        "Dictionaries are a built-in data type in Python that allow you to store data as key-value pairs. They are similar to lists in that they can store multiple values, but unlike lists, they are not ordered and do not use integer indices. Instead, they use keys, which can be any immutable data type (such as strings, integers, or tuples). This makes dictionaries very useful for storing and accessing data quickly, especially when the data has some logical connection or meaning.\n",
        "\n",
        "Que.5 Why might you use a set instead of a list in Python.\n",
        "\n",
        "Ans  Sets and lists are used in Python to store and manipulate data in a program.\n",
        "\n",
        "Used two parentheses to create the list. That's because the set() constructor expects one argument. Putting all the values in another set of parentheses makes all the values a single argument.\n",
        "The set can also contain multiple data types strings, numbers, or booleans.\n",
        "If you're wondering which to use, it depends on the use case. If you don’t want the values in the data to change, you can use a set. But if you want the items to change, you can use a list. You can also take into account whether the order of the items matters to you or not.\n",
        "\n",
        "Que. 6  What is a string in Python, and how is it different from a list.\n",
        "\n",
        "Ans.  A string is a sequence of characters. Python treats anything inside quotes as a string. This includes letters, numbers, and symbols.\n",
        "Strings can be created using either single (‘) or double (“) quotes.If we need a string to span multiple lines then we can use triple quotes (”’ or “””).\n",
        "\n",
        "      Difference Between List & String in Python.\n",
        "\n",
        "      1. Strings can only consist of characters, while lists can contain any data type.\n",
        "\n",
        "      2.  Mutability,. Strings are immutable, meaning that we cannot update them. But list is mutable We could update values in this, however quite easily.\n",
        "\n",
        "      3. Indexing is possible in strings, another instance where strings can be treated as lists.\n",
        "\n",
        "      4.  Strings follows the ASCII table to find the letters that occupy the lower positions.\n",
        "       In lists, it selects and outputs the smallest element.\n",
        "      \n",
        "      5.Strings can be sliced. Slices are often used to copy parts or a whole list and create a new one.\n",
        "      Slicing in lists copies part of a list or the whole list to create a new list.\n",
        "\n",
        "  Que.7  How do tuples ensure data integrity in Python.\n",
        "\n",
        "  Ans.   A tuple is an ordered collection of elements, similar to a list, but enclosed in parentheses () instead of square brackets [].The key characteristic of tuples is their immutability. Once you create a tuple, you cannot change its contents. This means you cannot add, remove, or modify elements within a tuple after it’s created. Attempting to do so will result in an error.\n",
        "  Tuples ensure data integrity in Python by being immutable, ordered, and allowing duplicate values. They provide a way to group and manage data with the assurance of immutability, ensuring that the data's integrity is preserved. Unlike lists, tuples cannot be modified once created\n",
        "  \n",
        "  Que.8 What is a hash table, and how does it relate to dictionaries in Python.\n",
        "\n",
        "  Ans.  A Hash table is defined as a data structure used to insert, look up, and remove key-value pairs quickly. It operates on the hashing concept, where each key is translated by a hash function into a distinct index in an array. The index functions as a storage location for the matching value. In simple words, it maps the keys with the value.\n",
        "\n",
        "   dictionary is a general concept that maps keys to values. There are many ways to implement such a mapping.\n",
        "A hashtable is a specific way to implement a dictionary.\n",
        "Besides hashtables, another common way to implement dictionaries is red-black trees.\n",
        " Hash tables are important data structures; Python uses them to implement two important built-in data types, dict and set.\n",
        " A Python dictionary is internally implemented with a hashtable.\n",
        "\n",
        " Que.9 Can lists contain different data types in Python.\n",
        "\n",
        " Ans. The list class is a fundamental built-in data type in Python. It has an impressive and useful set of features, allowing you to efficiently organize and manipulate heterogeneous data.List is a flexible, versatile, powerful, and popular built-in data type. It allows you to create variable-length and mutable sequences of objects. In a list, you can store objects of any type. You can also mix objects of different types within the same list, although list elements often share the same type.\n",
        "\n",
        "Que.10 Explain why strings are immutable in Python.\n",
        "\n",
        "Ans. Strings in Python are “immutable” which means they can not be changed after they are created. Some other immutable data types are integers, float, boolean, etc.\n",
        "The immutability of Python string is very useful as it helps in hashing, performance optimization, safety, ease of use, etc.\n",
        "\n",
        "Que.11 What advantages do dictionaries offer over lists for certain tasks.\n",
        "\n",
        "Ans.  In Python, both dictionaries and lists are powerful tools for storing data.\n",
        "Dictionaries offers several advantges over lists;\n",
        "\n",
        "    *  Speed of access:  Dictionaries provide faster access to elements compared to lists.\n",
        "\n",
        "    *  Key-value pairs: Dictionaries store data in key-value pairs, while lists are linear and represent data collections of the same type or function.\n",
        "\n",
        "    * Order: Lists maintain the order of elements, while dictionaries do not.\n",
        "\n",
        "    *  Use cases: Lists are useful for tasks like iterating through data or adding/removing elements from the end, while dictionaries allow for faster lookups based on unique keys.\n",
        "\n",
        "  Que.12 Describe a scenario where using a tuple would be preferable over a list.\n",
        "\n",
        "  Ans. Lists and Tuples in Python are two different implementations of array data structure.\n",
        "\n",
        "   Using a Tuple would be preferable over a list in python in the following scenario:\n",
        "            * When you want to collect an immutable ordered list of elements.\n",
        "\n",
        "            * When you need an element in a set, which requires immutability.\n",
        "\n",
        "             * When you want to avoid modifying items in the tuple, as Python tuples are immutable.\n",
        "\n",
        "\n",
        "Que.13 How do sets handle duplicate values in Python.\n",
        "\n",
        "Ans.Python offers the built-in set data structure, which inherently handles duplicates by design. Sets in Python not only help manage duplicate elements but also bring clear performance benefits in certain operations like membership testing and set arithmetic.\n",
        "set is an unordered collection of distinct items, meaning it automatically removes any duplicate elements. This property makes sets particularly valuable when duplicates need to be managed or eliminated from a dataset.\n",
        "\n",
        "Que.14 How does the “in” keyword work differently for lists and dictionaries.\n",
        "\n",
        "Ans. The \"in\" keyword works differently for lists and dictionaries in Python. For lists, it checks for equality, while for dictionaries, it tests for value equality. The behavior is similar for other built-in sequences and set types.\n",
        "\n",
        "Que.15  Can you modify the elements of a tuple? Explain why or why not.\n",
        "\n",
        "Ans. Once a tuple is created, you cannot change its values. Tuples are unchangeable, or immutable as it also is called.\n",
        "\n",
        "But there is a workaround. You can convert the tuple into a list, change the list, and convert the list back into a tuple.\n",
        "\n",
        "Convert the tuple into a list to be able to change it:\n",
        "\n",
        "x = (\"apple\", \"banana\", \"cherry\")\n",
        "y = list(x)\n",
        "y[1] = \"kiwi\"\n",
        "x = tuple(y)\n",
        "\n",
        "print(x)\n",
        "\n",
        "\n",
        "Que.16 What is a nested dictionary, and give an example of its use case.\n",
        "\n",
        "Ans. Nesting Dictionary means putting a dictionary inside another dictionary. Nesting is of great use as the kind of information we can model in programs is expanded greatly.\n",
        "Nested dictionary can be created by placing the comma-separated dictionaries enclosed within braces.\n",
        "\n",
        "# Example of Python Nested Dictionary\n",
        "nested_dict = {\n",
        "    'person1': {'name': 'Alice', 'age': 30},\n",
        "    'person2': {'name': 'Bob', 'age': 25},\n",
        "    'person3': {'name': 'Charlie', 'age': 40}\n",
        "}\n",
        "In this example, each person is represented by a dictionary that holds details like name and age. These dictionaries are then stored in a parent  dictionary, making it a Python Nested Dictionary.\n",
        "\n",
        "\n",
        "Que.17  Describe the time complexity of accessing elements in a dictionary.\n",
        "\n",
        "\n",
        "Ans.\n",
        "Python dictionaries provide a fast and efficient way to store and retrieve data using key value pair so understanding the time complexities of dictionary operations is very important for optimizing performance in our programs.\n",
        "\n",
        "  * Accessing Elements by Key (O(1)):\n",
        "\n",
        "The time complexity of retrieving a value by its key in a dictionary is O(1). This is because dictionaries use a hash table internally which allows constant time lookup.\n",
        "\n",
        "   * Adding or Updating an Element (O(1))\n",
        "\n",
        "Adding a new key-value pair or updating an existing key is also O(1) in average cases as the dictionary directly places the value in the hash table.\n",
        "\n",
        "   *  Deleting an Element (O(1)\n",
        "\n",
        "Removing an element by its key also has an average time complexity of O(1) using the same hash table mechanism.\n",
        "\n",
        "    * Checking if a Key Exists (O(1))\n",
        "\n",
        "The 'in' keyword allows us to check if a key exists in the dictionary with an average complexity of O(1).\n",
        "\n",
        "  *  Iterating Over a Dictionary (O(n))\n",
        "\n",
        "Iterating over keys, values, or items in a dictionary has a time complexity of O(n) where n is the number of elements.\n",
        "\n",
        "\n",
        "\n",
        "Que.18 In what situations are lists preferred over dictionaries.\n",
        "\n",
        "Ans.  Dictionaries excel in scenarios requiring fast lookups, key-value associations, and complex data mappings, while lists are ideal for ordered collections, sequential processing, and simple data storage.A Python list is a collection object used to store data in a sequential manner. In a list, each element has a particular position and we can access the data randomly using their position. On the other hand, a Python dictionary contains key-value pairs that don’t have a particular position.\n",
        "\n",
        " Both serve unique purposes and come with their own sets of advantages and limitations.Understanding when and why to use dictionaries over lists, or vice versa.\n",
        "\n",
        "Que.19  Why are dictionaries considered unordered, and how does that affect data retrieval.\n",
        "\n",
        "Ans.  A dictionary is often referred to as an unordered collection of objects because the elements within a dictionary are not arranged in a specific order. In other words, the items in a dictionary do not have an inherent positional index like they do in a list or an array.\n",
        "\n",
        "Instead of using numerical indices to access elements, a dictionary uses keys to uniquely identify and retrieve values associated with those keys. Each key in a dictionary must be unique, and it serves as a label or identifier for its corresponding value. The keys are used as a hash, allowing for efficient retrieval of values.\n",
        "\n",
        "\n",
        "Que.20 Explain the difference between a list and a dictionary in terms of data retrieval.\n",
        "\n",
        "Ans. Lists and Dictionaries in Python are inbuilt data structures that are used to store data. Lists are linear in nature whereas dictionaries stored the data in key-value pairs.\n",
        "\n",
        "dictionary uses keys to uniquely identify and retrieve values associated with those keys. Each key in a dictionary must be unique, and it serves as a label or identifier for its corresponding value. The keys are used as a hash, allowing for efficient retrieval of values.\n",
        "\n",
        "\n",
        "\n",
        "\n",
        "\n",
        "\n",
        "\n",
        "\n",
        "\n",
        "\n",
        "\n",
        "\n",
        "\n",
        "\n",
        "\n",
        "\n",
        "\n",
        "\n",
        "\n",
        "\n",
        "\n",
        "\n",
        "\n",
        "\n",
        "\n",
        "\n",
        "\n",
        "\n",
        "\n",
        "\n",
        "\n",
        "\n",
        "\n",
        "\n",
        "\n",
        "      \n",
        "      \n",
        "\n",
        "  \n",
        "\n",
        "\n",
        "\n",
        "\n",
        "\n",
        "\n",
        "\n",
        "\n",
        "\n",
        "\n",
        "\n",
        "\n",
        "\n",
        "\n",
        "\n",
        "\n",
        "\n",
        "\n",
        "\n",
        "\n"
      ],
      "metadata": {
        "id": "Raes-Gz3C1nO"
      }
    },
    {
      "cell_type": "markdown",
      "source": [],
      "metadata": {
        "id": "tpB2qyXJCeZ8"
      }
    },
    {
      "cell_type": "markdown",
      "source": [
        "Practical Questions\n",
        "\n",
        "Que .1 Write a code to create a string with your name annd print it.\n",
        "\n",
        "Ans.\n"
      ],
      "metadata": {
        "id": "mc23X6EDlNmE"
      }
    },
    {
      "cell_type": "code",
      "source": [
        "strings =\"reena tripathi\"\n",
        "print(strings)"
      ],
      "metadata": {
        "colab": {
          "base_uri": "https://localhost:8080/"
        },
        "id": "0ITF8-O9lkpY",
        "outputId": "bb26aa9f-0adc-42b0-dd25-248a9549b70a"
      },
      "execution_count": null,
      "outputs": [
        {
          "output_type": "stream",
          "name": "stdout",
          "text": [
            "reena tripathi\n"
          ]
        }
      ]
    },
    {
      "cell_type": "markdown",
      "source": [
        "Que.2 Write a code to find the length of the string \"Hello World\""
      ],
      "metadata": {
        "id": "_x_D27RgpFvf"
      }
    },
    {
      "cell_type": "code",
      "source": [
        "a=\"Hello World\"\n",
        "print(len(a))"
      ],
      "metadata": {
        "colab": {
          "base_uri": "https://localhost:8080/"
        },
        "id": "VzObaqFgpPu9",
        "outputId": "5e11e8f3-3bd4-47f2-d7ea-b10716908f44"
      },
      "execution_count": null,
      "outputs": [
        {
          "output_type": "stream",
          "name": "stdout",
          "text": [
            "11\n"
          ]
        }
      ]
    },
    {
      "cell_type": "markdown",
      "source": [
        "Que.3  Write a code to slice the first 3 characters from the string \"Python Programming\""
      ],
      "metadata": {
        "id": "yAXtcVfIprmV"
      }
    },
    {
      "cell_type": "code",
      "source": [
        "a=\"python programming\"\n",
        "a2= a[0:3]\n",
        "print(a2)"
      ],
      "metadata": {
        "colab": {
          "base_uri": "https://localhost:8080/"
        },
        "id": "sXfitID8qF7V",
        "outputId": "229e43c7-9982-49b1-a433-412eb6100999"
      },
      "execution_count": null,
      "outputs": [
        {
          "output_type": "stream",
          "name": "stdout",
          "text": [
            "pyt\n"
          ]
        }
      ]
    },
    {
      "cell_type": "markdown",
      "source": [
        "Que.4  Write a code to convert the string \"hello\" to uppercase."
      ],
      "metadata": {
        "id": "sFazCmE-qsDs"
      }
    },
    {
      "cell_type": "code",
      "source": [
        "a= \"hello\"\n",
        "b=a.upper()\n",
        "print(b)"
      ],
      "metadata": {
        "colab": {
          "base_uri": "https://localhost:8080/"
        },
        "id": "mAmKwm6KrFTB",
        "outputId": "5847caff-9bcd-478b-929e-d40ebb08f860"
      },
      "execution_count": null,
      "outputs": [
        {
          "output_type": "stream",
          "name": "stdout",
          "text": [
            "HELLO\n"
          ]
        }
      ]
    },
    {
      "cell_type": "markdown",
      "source": [
        "Que.5 Write a code to replace the word \"apple\" with \"orange\" in the string \"I like apple\"."
      ],
      "metadata": {
        "id": "F3ch_DUxrhDX"
      }
    },
    {
      "cell_type": "code",
      "source": [
        "a=\"i like apple\"\n",
        "b=a.replace(\"apple\",\"orange\")\n",
        "print(b)"
      ],
      "metadata": {
        "colab": {
          "base_uri": "https://localhost:8080/"
        },
        "id": "RBh6A6pqruR0",
        "outputId": "75b8fe0e-06d3-4809-e3b7-176a37284215"
      },
      "execution_count": null,
      "outputs": [
        {
          "output_type": "stream",
          "name": "stdout",
          "text": [
            "i like orange\n"
          ]
        }
      ]
    },
    {
      "cell_type": "markdown",
      "source": [
        "Que.6 Write a code to create a list with numbers 1 to 5 and print it."
      ],
      "metadata": {
        "id": "QCbFKeovsst9"
      }
    },
    {
      "cell_type": "code",
      "source": [
        "a=[1,2,3,4,5]\n",
        "print(a)"
      ],
      "metadata": {
        "colab": {
          "base_uri": "https://localhost:8080/"
        },
        "id": "J2yw7Yynsy98",
        "outputId": "0327488e-535a-4121-e993-311e278267b9"
      },
      "execution_count": null,
      "outputs": [
        {
          "output_type": "stream",
          "name": "stdout",
          "text": [
            "[1, 2, 3, 4, 5]\n"
          ]
        }
      ]
    },
    {
      "cell_type": "markdown",
      "source": [],
      "metadata": {
        "id": "OHZ7UsZktJEY"
      }
    },
    {
      "cell_type": "markdown",
      "source": [
        "Que.7  Write a code to append the number 10 to the list [1, 2, 3, 4]"
      ],
      "metadata": {
        "id": "KBLD63getLho"
      }
    },
    {
      "cell_type": "code",
      "source": [
        "a=[1,2,3,4]\n",
        "a.append(10)\n",
        "print(a)"
      ],
      "metadata": {
        "colab": {
          "base_uri": "https://localhost:8080/"
        },
        "id": "QeenMt-VtuA1",
        "outputId": "b54390de-21ee-43cc-c528-b8fd86e696b7"
      },
      "execution_count": null,
      "outputs": [
        {
          "output_type": "stream",
          "name": "stdout",
          "text": [
            "[1, 2, 3, 4, 10]\n"
          ]
        }
      ]
    },
    {
      "cell_type": "markdown",
      "source": [
        "Que.8 Write a code to remove the number 3 from the list [1, 2, 3, 4,]"
      ],
      "metadata": {
        "id": "VrQiQV6VuWbh"
      }
    },
    {
      "cell_type": "code",
      "source": [
        "a=[1,2,3,4]\n",
        "a.remove(3)\n",
        "print(a)"
      ],
      "metadata": {
        "colab": {
          "base_uri": "https://localhost:8080/"
        },
        "id": "TPG57VNiuZmo",
        "outputId": "b264dcc4-71b9-4a04-a1de-0a1fb5029064"
      },
      "execution_count": null,
      "outputs": [
        {
          "output_type": "stream",
          "name": "stdout",
          "text": [
            "[1, 2, 4]\n"
          ]
        }
      ]
    },
    {
      "cell_type": "markdown",
      "source": [
        "Que.9 Write a code to access the second element in the list ['a', 'b', 'c', 'd']"
      ],
      "metadata": {
        "id": "9w_BktfNukJC"
      }
    },
    {
      "cell_type": "code",
      "source": [
        "a=[\"a\",\"b\",\"c\",\"d\"]\n",
        "print(a[2])"
      ],
      "metadata": {
        "colab": {
          "base_uri": "https://localhost:8080/"
        },
        "id": "YO2jU4-QurB2",
        "outputId": "fac98c45-2eeb-4603-a189-d1221016bb03"
      },
      "execution_count": null,
      "outputs": [
        {
          "output_type": "stream",
          "name": "stdout",
          "text": [
            "c\n"
          ]
        }
      ]
    },
    {
      "cell_type": "markdown",
      "source": [
        "Que.10 Write a code to reverse the list [10, 20, 30, 40, 50]."
      ],
      "metadata": {
        "id": "CDd9yxG7vmyQ"
      }
    },
    {
      "cell_type": "code",
      "source": [
        "a=[10,20,30,40,50]\n",
        "a.reverse()\n",
        "print(a)"
      ],
      "metadata": {
        "colab": {
          "base_uri": "https://localhost:8080/"
        },
        "id": "F87E3csEvsaN",
        "outputId": "93241b83-4290-4022-d51f-f1b94adf7589"
      },
      "execution_count": null,
      "outputs": [
        {
          "output_type": "stream",
          "name": "stdout",
          "text": [
            "[50, 40, 30, 20, 10]\n"
          ]
        }
      ]
    },
    {
      "cell_type": "markdown",
      "source": [
        "Que.11. Write a code to create a tuple with the elements 10, 20, 30 and print it."
      ],
      "metadata": {
        "id": "54kYu_MHxh17"
      }
    },
    {
      "cell_type": "code",
      "source": [
        "a=(10,20,30)\n",
        "print(a)"
      ],
      "metadata": {
        "colab": {
          "base_uri": "https://localhost:8080/"
        },
        "id": "v5-DMgU7xtLe",
        "outputId": "0d3bd3bb-dc92-40d6-c5e2-da0887a33711"
      },
      "execution_count": null,
      "outputs": [
        {
          "output_type": "stream",
          "name": "stdout",
          "text": [
            "(10, 20, 30)\n"
          ]
        }
      ]
    },
    {
      "cell_type": "markdown",
      "source": [
        "Que.12 write a code to access the first element of the tuple ('apple', 'banana', 'cherry')."
      ],
      "metadata": {
        "id": "p5OSFc54yAJy"
      }
    },
    {
      "cell_type": "code",
      "source": [
        "a=(\"apple\",\"banana\",\"cherry\")\n",
        "print(a[1])"
      ],
      "metadata": {
        "colab": {
          "base_uri": "https://localhost:8080/"
        },
        "id": "KY1_jiqxyPCI",
        "outputId": "14079195-c9a8-4ad3-fbed-f95aaba62f1e"
      },
      "execution_count": null,
      "outputs": [
        {
          "output_type": "stream",
          "name": "stdout",
          "text": [
            "banana\n"
          ]
        }
      ]
    },
    {
      "cell_type": "markdown",
      "source": [
        "Que.13 . Write a code to count how many times the number 2 appears in the tuple (1, 2, 3, 2, 4, 2)."
      ],
      "metadata": {
        "id": "vaD-dUipzbyQ"
      }
    },
    {
      "cell_type": "code",
      "source": [
        "a=(1,2,3,2,4,2)\n",
        "b=a.count(2)\n",
        "print(b)"
      ],
      "metadata": {
        "colab": {
          "base_uri": "https://localhost:8080/"
        },
        "id": "JCIgzkUqzkAQ",
        "outputId": "a196fabf-0871-4a6a-bc80-45147dfdd2e8"
      },
      "execution_count": null,
      "outputs": [
        {
          "output_type": "stream",
          "name": "stdout",
          "text": [
            "3\n"
          ]
        }
      ]
    },
    {
      "cell_type": "code",
      "source": [],
      "metadata": {
        "id": "5LC7zuKcrvjZ"
      },
      "execution_count": null,
      "outputs": []
    },
    {
      "cell_type": "markdown",
      "source": [
        "Que. 14  Write a code to find the index of the element \"cat\" in the tuple ('dog', 'cat', 'rabbit')"
      ],
      "metadata": {
        "id": "lkSfrkgoz8QL"
      }
    },
    {
      "cell_type": "code",
      "source": [
        "animals=(\"dog\",\"cat\",\"rabbit\")\n",
        "index = animals.index(\"cat\")\n",
        "print(index)"
      ],
      "metadata": {
        "colab": {
          "base_uri": "https://localhost:8080/"
        },
        "id": "mAJ8ofnM0FEa",
        "outputId": "0483e77b-cc70-493a-f984-da0f15907550"
      },
      "execution_count": null,
      "outputs": [
        {
          "output_type": "stream",
          "name": "stdout",
          "text": [
            "1\n"
          ]
        }
      ]
    },
    {
      "cell_type": "markdown",
      "source": [
        "Que.15 Write a code to check if the element \"banana\" is in the tuple ('apple', 'orange', 'banana')"
      ],
      "metadata": {
        "id": "QKgLP-7W01Jw"
      }
    },
    {
      "cell_type": "code",
      "source": [
        "fruits =(\"apple\",\"orange\",\"banana\",)\n",
        "k=\"banana\"\n",
        "is_present= k in fruits\n",
        "print(is_present)\n"
      ],
      "metadata": {
        "colab": {
          "base_uri": "https://localhost:8080/"
        },
        "id": "xkvM4Hmx09hv",
        "outputId": "9590097d-b4e9-41b6-8be5-f67da66d1557"
      },
      "execution_count": null,
      "outputs": [
        {
          "output_type": "stream",
          "name": "stdout",
          "text": [
            "True\n"
          ]
        }
      ]
    },
    {
      "cell_type": "markdown",
      "source": [
        "Que.16  Write a code to create a set with the elements 1, 2, 3, 4, 5 and print it."
      ],
      "metadata": {
        "id": "zjQxzAa9Zxpd"
      }
    },
    {
      "cell_type": "code",
      "source": [
        "s={1,2,3,4,5}\n",
        "print(s)"
      ],
      "metadata": {
        "colab": {
          "base_uri": "https://localhost:8080/"
        },
        "id": "05GIx48wZ7IM",
        "outputId": "53ed2bc0-3ebb-4530-a598-182a159640fd"
      },
      "execution_count": null,
      "outputs": [
        {
          "output_type": "stream",
          "name": "stdout",
          "text": [
            "{1, 2, 3, 4, 5}\n"
          ]
        }
      ]
    },
    {
      "cell_type": "markdown",
      "source": [
        "Que.17\n",
        " Write a code to add the element 6 to the set {1, 2, 3,4}."
      ],
      "metadata": {
        "id": "2M82-oHeaVmv"
      }
    },
    {
      "cell_type": "code",
      "source": [
        "s={1,2,3,4}\n",
        "s.add('6')\n",
        "print(s)"
      ],
      "metadata": {
        "colab": {
          "base_uri": "https://localhost:8080/"
        },
        "id": "YICJ3ZcVax1O",
        "outputId": "6840efb9-9c5f-4775-ba59-c5284d1c9309"
      },
      "execution_count": null,
      "outputs": [
        {
          "output_type": "stream",
          "name": "stdout",
          "text": [
            "{1, 2, 3, 4, '6'}\n"
          ]
        }
      ]
    },
    {
      "cell_type": "markdown",
      "source": [
        "Que.18 Write a code to create a tuple with the elements 10, 20, 30 and print it."
      ],
      "metadata": {
        "id": "KEKEhdk2bHPU"
      }
    },
    {
      "cell_type": "code",
      "source": [
        "t=(10,20,30)\n",
        "print(t)"
      ],
      "metadata": {
        "colab": {
          "base_uri": "https://localhost:8080/"
        },
        "id": "NdSZ8AWkbO6J",
        "outputId": "d3c938c7-afe3-4129-bdd2-5d3570457a55"
      },
      "execution_count": null,
      "outputs": [
        {
          "output_type": "stream",
          "name": "stdout",
          "text": [
            "(10, 20, 30)\n"
          ]
        }
      ]
    },
    {
      "cell_type": "markdown",
      "source": [
        "Que.19 Write a code to access the first element of the tuple ('apple', 'banana', 'cherry')"
      ],
      "metadata": {
        "id": "jQDDjNJCbnjV"
      }
    },
    {
      "cell_type": "code",
      "source": [
        "t=(\"apple\",\"banana\",\"cherry\")\n",
        "print (t[1])"
      ],
      "metadata": {
        "colab": {
          "base_uri": "https://localhost:8080/"
        },
        "id": "1z-7hSMKbzg6",
        "outputId": "72073142-5e1f-4de1-d727-b38ce53c9dcc"
      },
      "execution_count": null,
      "outputs": [
        {
          "output_type": "stream",
          "name": "stdout",
          "text": [
            "banana\n"
          ]
        }
      ]
    },
    {
      "cell_type": "markdown",
      "source": [
        "Que.20 Write a code to count how many times the number 2 appears in the tuple (1, 2, 3, 2, 4, 2)."
      ],
      "metadata": {
        "id": "TWOyZ2vrcqqf"
      }
    },
    {
      "cell_type": "code",
      "source": [
        "t=(1,2,3,2,4,2)\n",
        "t.count(2)"
      ],
      "metadata": {
        "colab": {
          "base_uri": "https://localhost:8080/"
        },
        "id": "BnpgjP5Icxfw",
        "outputId": "431132df-95ff-4987-8b02-862d51f38dc3"
      },
      "execution_count": null,
      "outputs": [
        {
          "output_type": "execute_result",
          "data": {
            "text/plain": [
              "3"
            ]
          },
          "metadata": {},
          "execution_count": 9
        }
      ]
    },
    {
      "cell_type": "markdown",
      "source": [
        "Que.21  Write a code to find the index of the element \"cat\" in the tuple ('dog', 'cat', 'rabbit')"
      ],
      "metadata": {
        "id": "usqSgEA-c9Lp"
      }
    },
    {
      "cell_type": "code",
      "source": [
        "t=(\"dog\",\"cat\",\"rabbit\")\n",
        "t.index(\"cat\")"
      ],
      "metadata": {
        "colab": {
          "base_uri": "https://localhost:8080/"
        },
        "id": "dA6VT94fdDHz",
        "outputId": "682258d9-c4e6-46ba-9e68-05793b22976b"
      },
      "execution_count": null,
      "outputs": [
        {
          "output_type": "execute_result",
          "data": {
            "text/plain": [
              "1"
            ]
          },
          "metadata": {},
          "execution_count": 10
        }
      ]
    },
    {
      "cell_type": "markdown",
      "source": [
        "Que.22 . Write a code to check if the element \"banana\" is in the tuple ('apple', 'orange', 'banana').\n"
      ],
      "metadata": {
        "id": "2xJb_rovdVdw"
      }
    },
    {
      "cell_type": "code",
      "source": [
        "t=(\"apple\",\"orange\",\"banana\")\n",
        "k=\"banana\"\n",
        "is_present=k in t\n",
        "print(is_present)"
      ],
      "metadata": {
        "colab": {
          "base_uri": "https://localhost:8080/"
        },
        "id": "YKCoWCS8ddAB",
        "outputId": "7a385804-14d7-4ffc-fb64-5996291a6484"
      },
      "execution_count": null,
      "outputs": [
        {
          "output_type": "stream",
          "name": "stdout",
          "text": [
            "True\n"
          ]
        }
      ]
    },
    {
      "cell_type": "markdown",
      "source": [
        "Que.23  Write a code to create a set with the elements 1, 2, 3, 4, 5 and print it"
      ],
      "metadata": {
        "id": "2UFRf4RveNT0"
      }
    },
    {
      "cell_type": "code",
      "source": [
        "s=(1,2,3,4,5)\n",
        "print(s)"
      ],
      "metadata": {
        "colab": {
          "base_uri": "https://localhost:8080/"
        },
        "id": "9ghXYJ6beTiO",
        "outputId": "6e04d897-604e-478f-dc97-1cc02a6fc905"
      },
      "execution_count": null,
      "outputs": [
        {
          "output_type": "stream",
          "name": "stdout",
          "text": [
            "(1, 2, 3, 4, 5)\n"
          ]
        }
      ]
    },
    {
      "cell_type": "markdown",
      "source": [
        "Que. 24  Write a code to add the element 6 to the set {1, 2, 3, 4}"
      ],
      "metadata": {
        "id": "Du2KfKvgeaw7"
      }
    },
    {
      "cell_type": "code",
      "source": [
        "s={1,2,3,4,}\n",
        "s.add(6)\n",
        "print(s)"
      ],
      "metadata": {
        "colab": {
          "base_uri": "https://localhost:8080/"
        },
        "id": "E2GgfFE-ehd_",
        "outputId": "08496972-066c-4be6-9bd8-9ec64db9bbf5"
      },
      "execution_count": null,
      "outputs": [
        {
          "output_type": "stream",
          "name": "stdout",
          "text": [
            "{1, 2, 3, 4, 6}\n"
          ]
        }
      ]
    }
  ]
}